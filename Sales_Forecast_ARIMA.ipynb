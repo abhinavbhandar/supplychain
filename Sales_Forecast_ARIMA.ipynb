{
  "nbformat": 4,
  "nbformat_minor": 0,
  "metadata": {
    "colab": {
      "provenance": [],
      "include_colab_link": true
    },
    "kernelspec": {
      "name": "python3",
      "display_name": "Python 3"
    }
  },
  "cells": [
    {
      "cell_type": "markdown",
      "metadata": {
        "id": "view-in-github",
        "colab_type": "text"
      },
      "source": [
        "<a href=\"https://colab.research.google.com/github/abhinavbhandar/supplychain/blob/main/Sales_Forecast_ARIMA.ipynb\" target=\"_parent\"><img src=\"https://colab.research.google.com/assets/colab-badge.svg\" alt=\"Open In Colab\"/></a>"
      ]
    },
    {
      "cell_type": "code",
      "metadata": {
        "id": "rgI5xsf7eUVw",
        "colab": {
          "base_uri": "https://localhost:8080/"
        },
        "outputId": "70f8c625-6e5e-462e-bf61-708523976ce6"
      },
      "source": [
        "pip install pmdarima"
      ],
      "execution_count": null,
      "outputs": [
        {
          "output_type": "stream",
          "name": "stdout",
          "text": [
            "Collecting pmdarima\n",
            "  Downloading pmdarima-2.0.4-cp310-cp310-manylinux_2_17_x86_64.manylinux2014_x86_64.manylinux_2_28_x86_64.whl.metadata (7.8 kB)\n",
            "Requirement already satisfied: joblib>=0.11 in /usr/local/lib/python3.10/dist-packages (from pmdarima) (1.4.2)\n",
            "Requirement already satisfied: Cython!=0.29.18,!=0.29.31,>=0.29 in /usr/local/lib/python3.10/dist-packages (from pmdarima) (3.0.11)\n",
            "Requirement already satisfied: numpy>=1.21.2 in /usr/local/lib/python3.10/dist-packages (from pmdarima) (1.26.4)\n",
            "Requirement already satisfied: pandas>=0.19 in /usr/local/lib/python3.10/dist-packages (from pmdarima) (2.2.2)\n",
            "Requirement already satisfied: scikit-learn>=0.22 in /usr/local/lib/python3.10/dist-packages (from pmdarima) (1.5.2)\n",
            "Requirement already satisfied: scipy>=1.3.2 in /usr/local/lib/python3.10/dist-packages (from pmdarima) (1.13.1)\n",
            "Requirement already satisfied: statsmodels>=0.13.2 in /usr/local/lib/python3.10/dist-packages (from pmdarima) (0.14.4)\n",
            "Requirement already satisfied: urllib3 in /usr/local/lib/python3.10/dist-packages (from pmdarima) (2.2.3)\n",
            "Requirement already satisfied: setuptools!=50.0.0,>=38.6.0 in /usr/local/lib/python3.10/dist-packages (from pmdarima) (75.1.0)\n",
            "Requirement already satisfied: packaging>=17.1 in /usr/local/lib/python3.10/dist-packages (from pmdarima) (24.2)\n",
            "Requirement already satisfied: python-dateutil>=2.8.2 in /usr/local/lib/python3.10/dist-packages (from pandas>=0.19->pmdarima) (2.8.2)\n",
            "Requirement already satisfied: pytz>=2020.1 in /usr/local/lib/python3.10/dist-packages (from pandas>=0.19->pmdarima) (2024.2)\n",
            "Requirement already satisfied: tzdata>=2022.7 in /usr/local/lib/python3.10/dist-packages (from pandas>=0.19->pmdarima) (2024.2)\n",
            "Requirement already satisfied: threadpoolctl>=3.1.0 in /usr/local/lib/python3.10/dist-packages (from scikit-learn>=0.22->pmdarima) (3.5.0)\n",
            "Requirement already satisfied: patsy>=0.5.6 in /usr/local/lib/python3.10/dist-packages (from statsmodels>=0.13.2->pmdarima) (1.0.1)\n",
            "Requirement already satisfied: six>=1.5 in /usr/local/lib/python3.10/dist-packages (from python-dateutil>=2.8.2->pandas>=0.19->pmdarima) (1.16.0)\n",
            "Downloading pmdarima-2.0.4-cp310-cp310-manylinux_2_17_x86_64.manylinux2014_x86_64.manylinux_2_28_x86_64.whl (2.1 MB)\n",
            "\u001b[2K   \u001b[90m━━━━━━━━━━━━━━━━━━━━━━━━━━━━━━━━━━━━━━━━\u001b[0m \u001b[32m2.1/2.1 MB\u001b[0m \u001b[31m23.0 MB/s\u001b[0m eta \u001b[36m0:00:00\u001b[0m\n",
            "\u001b[?25hInstalling collected packages: pmdarima\n",
            "Successfully installed pmdarima-2.0.4\n"
          ]
        }
      ]
    },
    {
      "cell_type": "code",
      "metadata": {
        "id": "sJUCGgJAeXmn"
      },
      "source": [
        "import pandas as pd\n",
        "import numpy as np"
      ],
      "execution_count": null,
      "outputs": []
    },
    {
      "cell_type": "markdown",
      "metadata": {
        "id": "kzMWL_bGvvuY"
      },
      "source": [
        "#Read Data"
      ]
    },
    {
      "cell_type": "code",
      "metadata": {
        "id": "rKYgCgvcebUM",
        "colab": {
          "base_uri": "https://localhost:8080/",
          "height": 255
        },
        "outputId": "5d1b0ec9-d9da-4901-fe69-3241ff5431da"
      },
      "source": [
        "df=pd.read_csv('/content/month sale.csv',index_col='Date',parse_dates=True)\n",
        "df=df.dropna()\n",
        "print('Shape of data',df.shape)\n",
        "df.head()"
      ],
      "execution_count": null,
      "outputs": [
        {
          "output_type": "stream",
          "name": "stdout",
          "text": [
            "Shape of data (36, 1)\n"
          ]
        },
        {
          "output_type": "execute_result",
          "data": {
            "text/plain": [
              "            Sum of Sales\n",
              "Date                    \n",
              "2015-01-01    1051590.06\n",
              "2015-02-01     927009.88\n",
              "2015-03-01    1051253.67\n",
              "2015-04-01    1014463.26\n",
              "2015-05-01    1050478.42"
            ],
            "text/html": [
              "\n",
              "  <div id=\"df-968b986f-9b4b-435a-b0ad-2a2eca7121e4\" class=\"colab-df-container\">\n",
              "    <div>\n",
              "<style scoped>\n",
              "    .dataframe tbody tr th:only-of-type {\n",
              "        vertical-align: middle;\n",
              "    }\n",
              "\n",
              "    .dataframe tbody tr th {\n",
              "        vertical-align: top;\n",
              "    }\n",
              "\n",
              "    .dataframe thead th {\n",
              "        text-align: right;\n",
              "    }\n",
              "</style>\n",
              "<table border=\"1\" class=\"dataframe\">\n",
              "  <thead>\n",
              "    <tr style=\"text-align: right;\">\n",
              "      <th></th>\n",
              "      <th>Sum of Sales</th>\n",
              "    </tr>\n",
              "    <tr>\n",
              "      <th>Date</th>\n",
              "      <th></th>\n",
              "    </tr>\n",
              "  </thead>\n",
              "  <tbody>\n",
              "    <tr>\n",
              "      <th>2015-01-01</th>\n",
              "      <td>1051590.06</td>\n",
              "    </tr>\n",
              "    <tr>\n",
              "      <th>2015-02-01</th>\n",
              "      <td>927009.88</td>\n",
              "    </tr>\n",
              "    <tr>\n",
              "      <th>2015-03-01</th>\n",
              "      <td>1051253.67</td>\n",
              "    </tr>\n",
              "    <tr>\n",
              "      <th>2015-04-01</th>\n",
              "      <td>1014463.26</td>\n",
              "    </tr>\n",
              "    <tr>\n",
              "      <th>2015-05-01</th>\n",
              "      <td>1050478.42</td>\n",
              "    </tr>\n",
              "  </tbody>\n",
              "</table>\n",
              "</div>\n",
              "    <div class=\"colab-df-buttons\">\n",
              "\n",
              "  <div class=\"colab-df-container\">\n",
              "    <button class=\"colab-df-convert\" onclick=\"convertToInteractive('df-968b986f-9b4b-435a-b0ad-2a2eca7121e4')\"\n",
              "            title=\"Convert this dataframe to an interactive table.\"\n",
              "            style=\"display:none;\">\n",
              "\n",
              "  <svg xmlns=\"http://www.w3.org/2000/svg\" height=\"24px\" viewBox=\"0 -960 960 960\">\n",
              "    <path d=\"M120-120v-720h720v720H120Zm60-500h600v-160H180v160Zm220 220h160v-160H400v160Zm0 220h160v-160H400v160ZM180-400h160v-160H180v160Zm440 0h160v-160H620v160ZM180-180h160v-160H180v160Zm440 0h160v-160H620v160Z\"/>\n",
              "  </svg>\n",
              "    </button>\n",
              "\n",
              "  <style>\n",
              "    .colab-df-container {\n",
              "      display:flex;\n",
              "      gap: 12px;\n",
              "    }\n",
              "\n",
              "    .colab-df-convert {\n",
              "      background-color: #E8F0FE;\n",
              "      border: none;\n",
              "      border-radius: 50%;\n",
              "      cursor: pointer;\n",
              "      display: none;\n",
              "      fill: #1967D2;\n",
              "      height: 32px;\n",
              "      padding: 0 0 0 0;\n",
              "      width: 32px;\n",
              "    }\n",
              "\n",
              "    .colab-df-convert:hover {\n",
              "      background-color: #E2EBFA;\n",
              "      box-shadow: 0px 1px 2px rgba(60, 64, 67, 0.3), 0px 1px 3px 1px rgba(60, 64, 67, 0.15);\n",
              "      fill: #174EA6;\n",
              "    }\n",
              "\n",
              "    .colab-df-buttons div {\n",
              "      margin-bottom: 4px;\n",
              "    }\n",
              "\n",
              "    [theme=dark] .colab-df-convert {\n",
              "      background-color: #3B4455;\n",
              "      fill: #D2E3FC;\n",
              "    }\n",
              "\n",
              "    [theme=dark] .colab-df-convert:hover {\n",
              "      background-color: #434B5C;\n",
              "      box-shadow: 0px 1px 3px 1px rgba(0, 0, 0, 0.15);\n",
              "      filter: drop-shadow(0px 1px 2px rgba(0, 0, 0, 0.3));\n",
              "      fill: #FFFFFF;\n",
              "    }\n",
              "  </style>\n",
              "\n",
              "    <script>\n",
              "      const buttonEl =\n",
              "        document.querySelector('#df-968b986f-9b4b-435a-b0ad-2a2eca7121e4 button.colab-df-convert');\n",
              "      buttonEl.style.display =\n",
              "        google.colab.kernel.accessAllowed ? 'block' : 'none';\n",
              "\n",
              "      async function convertToInteractive(key) {\n",
              "        const element = document.querySelector('#df-968b986f-9b4b-435a-b0ad-2a2eca7121e4');\n",
              "        const dataTable =\n",
              "          await google.colab.kernel.invokeFunction('convertToInteractive',\n",
              "                                                    [key], {});\n",
              "        if (!dataTable) return;\n",
              "\n",
              "        const docLinkHtml = 'Like what you see? Visit the ' +\n",
              "          '<a target=\"_blank\" href=https://colab.research.google.com/notebooks/data_table.ipynb>data table notebook</a>'\n",
              "          + ' to learn more about interactive tables.';\n",
              "        element.innerHTML = '';\n",
              "        dataTable['output_type'] = 'display_data';\n",
              "        await google.colab.output.renderOutput(dataTable, element);\n",
              "        const docLink = document.createElement('div');\n",
              "        docLink.innerHTML = docLinkHtml;\n",
              "        element.appendChild(docLink);\n",
              "      }\n",
              "    </script>\n",
              "  </div>\n",
              "\n",
              "\n",
              "<div id=\"df-df379ded-f9a4-4d03-a748-1bb87e0138ec\">\n",
              "  <button class=\"colab-df-quickchart\" onclick=\"quickchart('df-df379ded-f9a4-4d03-a748-1bb87e0138ec')\"\n",
              "            title=\"Suggest charts\"\n",
              "            style=\"display:none;\">\n",
              "\n",
              "<svg xmlns=\"http://www.w3.org/2000/svg\" height=\"24px\"viewBox=\"0 0 24 24\"\n",
              "     width=\"24px\">\n",
              "    <g>\n",
              "        <path d=\"M19 3H5c-1.1 0-2 .9-2 2v14c0 1.1.9 2 2 2h14c1.1 0 2-.9 2-2V5c0-1.1-.9-2-2-2zM9 17H7v-7h2v7zm4 0h-2V7h2v10zm4 0h-2v-4h2v4z\"/>\n",
              "    </g>\n",
              "</svg>\n",
              "  </button>\n",
              "\n",
              "<style>\n",
              "  .colab-df-quickchart {\n",
              "      --bg-color: #E8F0FE;\n",
              "      --fill-color: #1967D2;\n",
              "      --hover-bg-color: #E2EBFA;\n",
              "      --hover-fill-color: #174EA6;\n",
              "      --disabled-fill-color: #AAA;\n",
              "      --disabled-bg-color: #DDD;\n",
              "  }\n",
              "\n",
              "  [theme=dark] .colab-df-quickchart {\n",
              "      --bg-color: #3B4455;\n",
              "      --fill-color: #D2E3FC;\n",
              "      --hover-bg-color: #434B5C;\n",
              "      --hover-fill-color: #FFFFFF;\n",
              "      --disabled-bg-color: #3B4455;\n",
              "      --disabled-fill-color: #666;\n",
              "  }\n",
              "\n",
              "  .colab-df-quickchart {\n",
              "    background-color: var(--bg-color);\n",
              "    border: none;\n",
              "    border-radius: 50%;\n",
              "    cursor: pointer;\n",
              "    display: none;\n",
              "    fill: var(--fill-color);\n",
              "    height: 32px;\n",
              "    padding: 0;\n",
              "    width: 32px;\n",
              "  }\n",
              "\n",
              "  .colab-df-quickchart:hover {\n",
              "    background-color: var(--hover-bg-color);\n",
              "    box-shadow: 0 1px 2px rgba(60, 64, 67, 0.3), 0 1px 3px 1px rgba(60, 64, 67, 0.15);\n",
              "    fill: var(--button-hover-fill-color);\n",
              "  }\n",
              "\n",
              "  .colab-df-quickchart-complete:disabled,\n",
              "  .colab-df-quickchart-complete:disabled:hover {\n",
              "    background-color: var(--disabled-bg-color);\n",
              "    fill: var(--disabled-fill-color);\n",
              "    box-shadow: none;\n",
              "  }\n",
              "\n",
              "  .colab-df-spinner {\n",
              "    border: 2px solid var(--fill-color);\n",
              "    border-color: transparent;\n",
              "    border-bottom-color: var(--fill-color);\n",
              "    animation:\n",
              "      spin 1s steps(1) infinite;\n",
              "  }\n",
              "\n",
              "  @keyframes spin {\n",
              "    0% {\n",
              "      border-color: transparent;\n",
              "      border-bottom-color: var(--fill-color);\n",
              "      border-left-color: var(--fill-color);\n",
              "    }\n",
              "    20% {\n",
              "      border-color: transparent;\n",
              "      border-left-color: var(--fill-color);\n",
              "      border-top-color: var(--fill-color);\n",
              "    }\n",
              "    30% {\n",
              "      border-color: transparent;\n",
              "      border-left-color: var(--fill-color);\n",
              "      border-top-color: var(--fill-color);\n",
              "      border-right-color: var(--fill-color);\n",
              "    }\n",
              "    40% {\n",
              "      border-color: transparent;\n",
              "      border-right-color: var(--fill-color);\n",
              "      border-top-color: var(--fill-color);\n",
              "    }\n",
              "    60% {\n",
              "      border-color: transparent;\n",
              "      border-right-color: var(--fill-color);\n",
              "    }\n",
              "    80% {\n",
              "      border-color: transparent;\n",
              "      border-right-color: var(--fill-color);\n",
              "      border-bottom-color: var(--fill-color);\n",
              "    }\n",
              "    90% {\n",
              "      border-color: transparent;\n",
              "      border-bottom-color: var(--fill-color);\n",
              "    }\n",
              "  }\n",
              "</style>\n",
              "\n",
              "  <script>\n",
              "    async function quickchart(key) {\n",
              "      const quickchartButtonEl =\n",
              "        document.querySelector('#' + key + ' button');\n",
              "      quickchartButtonEl.disabled = true;  // To prevent multiple clicks.\n",
              "      quickchartButtonEl.classList.add('colab-df-spinner');\n",
              "      try {\n",
              "        const charts = await google.colab.kernel.invokeFunction(\n",
              "            'suggestCharts', [key], {});\n",
              "      } catch (error) {\n",
              "        console.error('Error during call to suggestCharts:', error);\n",
              "      }\n",
              "      quickchartButtonEl.classList.remove('colab-df-spinner');\n",
              "      quickchartButtonEl.classList.add('colab-df-quickchart-complete');\n",
              "    }\n",
              "    (() => {\n",
              "      let quickchartButtonEl =\n",
              "        document.querySelector('#df-df379ded-f9a4-4d03-a748-1bb87e0138ec button');\n",
              "      quickchartButtonEl.style.display =\n",
              "        google.colab.kernel.accessAllowed ? 'block' : 'none';\n",
              "    })();\n",
              "  </script>\n",
              "</div>\n",
              "\n",
              "    </div>\n",
              "  </div>\n"
            ],
            "application/vnd.google.colaboratory.intrinsic+json": {
              "type": "dataframe",
              "variable_name": "df",
              "summary": "{\n  \"name\": \"df\",\n  \"rows\": 36,\n  \"fields\": [\n    {\n      \"column\": \"Date\",\n      \"properties\": {\n        \"dtype\": \"date\",\n        \"min\": \"2015-01-01 00:00:00\",\n        \"max\": \"2017-12-01 00:00:00\",\n        \"num_unique_values\": 36,\n        \"samples\": [\n          \"2017-12-01 00:00:00\",\n          \"2016-02-01 00:00:00\",\n          \"2017-03-01 00:00:00\"\n        ],\n        \"semantic_type\": \"\",\n        \"description\": \"\"\n      }\n    },\n    {\n      \"column\": \"Sum of Sales\",\n      \"properties\": {\n        \"dtype\": \"number\",\n        \"std\": 117564.5902786194,\n        \"min\": 503910.81,\n        \"max\": 1143775.09,\n        \"num_unique_values\": 36,\n        \"samples\": [\n          503910.81,\n          968542.83,\n          1048004.76\n        ],\n        \"semantic_type\": \"\",\n        \"description\": \"\"\n      }\n    }\n  ]\n}"
            }
          },
          "metadata": {},
          "execution_count": 3
        }
      ]
    },
    {
      "cell_type": "code",
      "source": [
        "df.columns=[\"Sales\"]\n",
        "df.head()"
      ],
      "metadata": {
        "colab": {
          "base_uri": "https://localhost:8080/",
          "height": 237
        },
        "id": "OBiW6BUXS6_O",
        "outputId": "63b209b8-6b6c-4c64-c975-e80c1c52f2af"
      },
      "execution_count": null,
      "outputs": [
        {
          "output_type": "execute_result",
          "data": {
            "text/plain": [
              "                 Sales\n",
              "Date                  \n",
              "2015-01-01  1051590.06\n",
              "2015-02-01   927009.88\n",
              "2015-03-01  1051253.67\n",
              "2015-04-01  1014463.26\n",
              "2015-05-01  1050478.42"
            ],
            "text/html": [
              "\n",
              "  <div id=\"df-f6cf97aa-d71b-400a-b66b-dc16ccdbcd5c\" class=\"colab-df-container\">\n",
              "    <div>\n",
              "<style scoped>\n",
              "    .dataframe tbody tr th:only-of-type {\n",
              "        vertical-align: middle;\n",
              "    }\n",
              "\n",
              "    .dataframe tbody tr th {\n",
              "        vertical-align: top;\n",
              "    }\n",
              "\n",
              "    .dataframe thead th {\n",
              "        text-align: right;\n",
              "    }\n",
              "</style>\n",
              "<table border=\"1\" class=\"dataframe\">\n",
              "  <thead>\n",
              "    <tr style=\"text-align: right;\">\n",
              "      <th></th>\n",
              "      <th>Sales</th>\n",
              "    </tr>\n",
              "    <tr>\n",
              "      <th>Date</th>\n",
              "      <th></th>\n",
              "    </tr>\n",
              "  </thead>\n",
              "  <tbody>\n",
              "    <tr>\n",
              "      <th>2015-01-01</th>\n",
              "      <td>1051590.06</td>\n",
              "    </tr>\n",
              "    <tr>\n",
              "      <th>2015-02-01</th>\n",
              "      <td>927009.88</td>\n",
              "    </tr>\n",
              "    <tr>\n",
              "      <th>2015-03-01</th>\n",
              "      <td>1051253.67</td>\n",
              "    </tr>\n",
              "    <tr>\n",
              "      <th>2015-04-01</th>\n",
              "      <td>1014463.26</td>\n",
              "    </tr>\n",
              "    <tr>\n",
              "      <th>2015-05-01</th>\n",
              "      <td>1050478.42</td>\n",
              "    </tr>\n",
              "  </tbody>\n",
              "</table>\n",
              "</div>\n",
              "    <div class=\"colab-df-buttons\">\n",
              "\n",
              "  <div class=\"colab-df-container\">\n",
              "    <button class=\"colab-df-convert\" onclick=\"convertToInteractive('df-f6cf97aa-d71b-400a-b66b-dc16ccdbcd5c')\"\n",
              "            title=\"Convert this dataframe to an interactive table.\"\n",
              "            style=\"display:none;\">\n",
              "\n",
              "  <svg xmlns=\"http://www.w3.org/2000/svg\" height=\"24px\" viewBox=\"0 -960 960 960\">\n",
              "    <path d=\"M120-120v-720h720v720H120Zm60-500h600v-160H180v160Zm220 220h160v-160H400v160Zm0 220h160v-160H400v160ZM180-400h160v-160H180v160Zm440 0h160v-160H620v160ZM180-180h160v-160H180v160Zm440 0h160v-160H620v160Z\"/>\n",
              "  </svg>\n",
              "    </button>\n",
              "\n",
              "  <style>\n",
              "    .colab-df-container {\n",
              "      display:flex;\n",
              "      gap: 12px;\n",
              "    }\n",
              "\n",
              "    .colab-df-convert {\n",
              "      background-color: #E8F0FE;\n",
              "      border: none;\n",
              "      border-radius: 50%;\n",
              "      cursor: pointer;\n",
              "      display: none;\n",
              "      fill: #1967D2;\n",
              "      height: 32px;\n",
              "      padding: 0 0 0 0;\n",
              "      width: 32px;\n",
              "    }\n",
              "\n",
              "    .colab-df-convert:hover {\n",
              "      background-color: #E2EBFA;\n",
              "      box-shadow: 0px 1px 2px rgba(60, 64, 67, 0.3), 0px 1px 3px 1px rgba(60, 64, 67, 0.15);\n",
              "      fill: #174EA6;\n",
              "    }\n",
              "\n",
              "    .colab-df-buttons div {\n",
              "      margin-bottom: 4px;\n",
              "    }\n",
              "\n",
              "    [theme=dark] .colab-df-convert {\n",
              "      background-color: #3B4455;\n",
              "      fill: #D2E3FC;\n",
              "    }\n",
              "\n",
              "    [theme=dark] .colab-df-convert:hover {\n",
              "      background-color: #434B5C;\n",
              "      box-shadow: 0px 1px 3px 1px rgba(0, 0, 0, 0.15);\n",
              "      filter: drop-shadow(0px 1px 2px rgba(0, 0, 0, 0.3));\n",
              "      fill: #FFFFFF;\n",
              "    }\n",
              "  </style>\n",
              "\n",
              "    <script>\n",
              "      const buttonEl =\n",
              "        document.querySelector('#df-f6cf97aa-d71b-400a-b66b-dc16ccdbcd5c button.colab-df-convert');\n",
              "      buttonEl.style.display =\n",
              "        google.colab.kernel.accessAllowed ? 'block' : 'none';\n",
              "\n",
              "      async function convertToInteractive(key) {\n",
              "        const element = document.querySelector('#df-f6cf97aa-d71b-400a-b66b-dc16ccdbcd5c');\n",
              "        const dataTable =\n",
              "          await google.colab.kernel.invokeFunction('convertToInteractive',\n",
              "                                                    [key], {});\n",
              "        if (!dataTable) return;\n",
              "\n",
              "        const docLinkHtml = 'Like what you see? Visit the ' +\n",
              "          '<a target=\"_blank\" href=https://colab.research.google.com/notebooks/data_table.ipynb>data table notebook</a>'\n",
              "          + ' to learn more about interactive tables.';\n",
              "        element.innerHTML = '';\n",
              "        dataTable['output_type'] = 'display_data';\n",
              "        await google.colab.output.renderOutput(dataTable, element);\n",
              "        const docLink = document.createElement('div');\n",
              "        docLink.innerHTML = docLinkHtml;\n",
              "        element.appendChild(docLink);\n",
              "      }\n",
              "    </script>\n",
              "  </div>\n",
              "\n",
              "\n",
              "<div id=\"df-4947ad8c-3d2a-4268-a490-3ec7cc5904ee\">\n",
              "  <button class=\"colab-df-quickchart\" onclick=\"quickchart('df-4947ad8c-3d2a-4268-a490-3ec7cc5904ee')\"\n",
              "            title=\"Suggest charts\"\n",
              "            style=\"display:none;\">\n",
              "\n",
              "<svg xmlns=\"http://www.w3.org/2000/svg\" height=\"24px\"viewBox=\"0 0 24 24\"\n",
              "     width=\"24px\">\n",
              "    <g>\n",
              "        <path d=\"M19 3H5c-1.1 0-2 .9-2 2v14c0 1.1.9 2 2 2h14c1.1 0 2-.9 2-2V5c0-1.1-.9-2-2-2zM9 17H7v-7h2v7zm4 0h-2V7h2v10zm4 0h-2v-4h2v4z\"/>\n",
              "    </g>\n",
              "</svg>\n",
              "  </button>\n",
              "\n",
              "<style>\n",
              "  .colab-df-quickchart {\n",
              "      --bg-color: #E8F0FE;\n",
              "      --fill-color: #1967D2;\n",
              "      --hover-bg-color: #E2EBFA;\n",
              "      --hover-fill-color: #174EA6;\n",
              "      --disabled-fill-color: #AAA;\n",
              "      --disabled-bg-color: #DDD;\n",
              "  }\n",
              "\n",
              "  [theme=dark] .colab-df-quickchart {\n",
              "      --bg-color: #3B4455;\n",
              "      --fill-color: #D2E3FC;\n",
              "      --hover-bg-color: #434B5C;\n",
              "      --hover-fill-color: #FFFFFF;\n",
              "      --disabled-bg-color: #3B4455;\n",
              "      --disabled-fill-color: #666;\n",
              "  }\n",
              "\n",
              "  .colab-df-quickchart {\n",
              "    background-color: var(--bg-color);\n",
              "    border: none;\n",
              "    border-radius: 50%;\n",
              "    cursor: pointer;\n",
              "    display: none;\n",
              "    fill: var(--fill-color);\n",
              "    height: 32px;\n",
              "    padding: 0;\n",
              "    width: 32px;\n",
              "  }\n",
              "\n",
              "  .colab-df-quickchart:hover {\n",
              "    background-color: var(--hover-bg-color);\n",
              "    box-shadow: 0 1px 2px rgba(60, 64, 67, 0.3), 0 1px 3px 1px rgba(60, 64, 67, 0.15);\n",
              "    fill: var(--button-hover-fill-color);\n",
              "  }\n",
              "\n",
              "  .colab-df-quickchart-complete:disabled,\n",
              "  .colab-df-quickchart-complete:disabled:hover {\n",
              "    background-color: var(--disabled-bg-color);\n",
              "    fill: var(--disabled-fill-color);\n",
              "    box-shadow: none;\n",
              "  }\n",
              "\n",
              "  .colab-df-spinner {\n",
              "    border: 2px solid var(--fill-color);\n",
              "    border-color: transparent;\n",
              "    border-bottom-color: var(--fill-color);\n",
              "    animation:\n",
              "      spin 1s steps(1) infinite;\n",
              "  }\n",
              "\n",
              "  @keyframes spin {\n",
              "    0% {\n",
              "      border-color: transparent;\n",
              "      border-bottom-color: var(--fill-color);\n",
              "      border-left-color: var(--fill-color);\n",
              "    }\n",
              "    20% {\n",
              "      border-color: transparent;\n",
              "      border-left-color: var(--fill-color);\n",
              "      border-top-color: var(--fill-color);\n",
              "    }\n",
              "    30% {\n",
              "      border-color: transparent;\n",
              "      border-left-color: var(--fill-color);\n",
              "      border-top-color: var(--fill-color);\n",
              "      border-right-color: var(--fill-color);\n",
              "    }\n",
              "    40% {\n",
              "      border-color: transparent;\n",
              "      border-right-color: var(--fill-color);\n",
              "      border-top-color: var(--fill-color);\n",
              "    }\n",
              "    60% {\n",
              "      border-color: transparent;\n",
              "      border-right-color: var(--fill-color);\n",
              "    }\n",
              "    80% {\n",
              "      border-color: transparent;\n",
              "      border-right-color: var(--fill-color);\n",
              "      border-bottom-color: var(--fill-color);\n",
              "    }\n",
              "    90% {\n",
              "      border-color: transparent;\n",
              "      border-bottom-color: var(--fill-color);\n",
              "    }\n",
              "  }\n",
              "</style>\n",
              "\n",
              "  <script>\n",
              "    async function quickchart(key) {\n",
              "      const quickchartButtonEl =\n",
              "        document.querySelector('#' + key + ' button');\n",
              "      quickchartButtonEl.disabled = true;  // To prevent multiple clicks.\n",
              "      quickchartButtonEl.classList.add('colab-df-spinner');\n",
              "      try {\n",
              "        const charts = await google.colab.kernel.invokeFunction(\n",
              "            'suggestCharts', [key], {});\n",
              "      } catch (error) {\n",
              "        console.error('Error during call to suggestCharts:', error);\n",
              "      }\n",
              "      quickchartButtonEl.classList.remove('colab-df-spinner');\n",
              "      quickchartButtonEl.classList.add('colab-df-quickchart-complete');\n",
              "    }\n",
              "    (() => {\n",
              "      let quickchartButtonEl =\n",
              "        document.querySelector('#df-4947ad8c-3d2a-4268-a490-3ec7cc5904ee button');\n",
              "      quickchartButtonEl.style.display =\n",
              "        google.colab.kernel.accessAllowed ? 'block' : 'none';\n",
              "    })();\n",
              "  </script>\n",
              "</div>\n",
              "\n",
              "    </div>\n",
              "  </div>\n"
            ],
            "application/vnd.google.colaboratory.intrinsic+json": {
              "type": "dataframe",
              "variable_name": "df",
              "summary": "{\n  \"name\": \"df\",\n  \"rows\": 36,\n  \"fields\": [\n    {\n      \"column\": \"Date\",\n      \"properties\": {\n        \"dtype\": \"date\",\n        \"min\": \"2015-01-01 00:00:00\",\n        \"max\": \"2017-12-01 00:00:00\",\n        \"num_unique_values\": 36,\n        \"samples\": [\n          \"2017-12-01 00:00:00\",\n          \"2016-02-01 00:00:00\",\n          \"2017-03-01 00:00:00\"\n        ],\n        \"semantic_type\": \"\",\n        \"description\": \"\"\n      }\n    },\n    {\n      \"column\": \"Sales\",\n      \"properties\": {\n        \"dtype\": \"number\",\n        \"std\": 117564.5902786194,\n        \"min\": 503910.81,\n        \"max\": 1143775.09,\n        \"num_unique_values\": 36,\n        \"samples\": [\n          503910.81,\n          968542.83,\n          1048004.76\n        ],\n        \"semantic_type\": \"\",\n        \"description\": \"\"\n      }\n    }\n  ]\n}"
            }
          },
          "metadata": {},
          "execution_count": 4
        }
      ]
    },
    {
      "cell_type": "markdown",
      "metadata": {
        "id": "kVswd7W7vyi4"
      },
      "source": [
        "#Plot Your Data"
      ]
    },
    {
      "cell_type": "code",
      "metadata": {
        "id": "KppUuT8-ejqD",
        "colab": {
          "base_uri": "https://localhost:8080/",
          "height": 513
        },
        "outputId": "f0dcb0fa-bab6-4d85-ad74-f9d277a21b2a"
      },
      "source": [
        "df['Sales'].plot(figsize=(12,5))"
      ],
      "execution_count": null,
      "outputs": [
        {
          "output_type": "execute_result",
          "data": {
            "text/plain": [
              "<Axes: xlabel='Date'>"
            ]
          },
          "metadata": {},
          "execution_count": 5
        },
        {
          "output_type": "display_data",
          "data": {
            "text/plain": [
              "<Figure size 1200x500 with 1 Axes>"
            ],
            "image/png": "[encoded data removed]"
          },
          "metadata": {}
        }
      ]
    },
    {
      "cell_type": "markdown",
      "metadata": {
        "id": "2YK8qw2Gv1bT"
      },
      "source": [
        "#Check For Stationarity"
      ]
    },
    {
      "cell_type": "code",
      "metadata": {
        "id": "8TqnvNbBexKT"
      },
      "source": [
        "from statsmodels.tsa.stattools import adfuller\n",
        "\n",
        "def adf_test(dataset):\n",
        "  dftest = adfuller(dataset, autolag = 'AIC')\n",
        "  print(\"1. ADF : \",dftest[0])\n",
        "  print(\"2. P-Value : \", dftest[1])\n",
        "  print(\"3. Num Of Lags : \", dftest[2])\n",
        "  print(\"4. Num Of Observations Used For ADF Regression and Critical Values Calculation :\", dftest[3])\n",
        "  print(\"5. Critical Values :\")\n",
        "  for key, val in dftest[4].items():\n",
        "      print(\"\\t\",key, \": \", val)"
      ],
      "execution_count": null,
      "outputs": []
    },
    {
      "cell_type": "code",
      "metadata": {
        "id": "muTlXcZYe3Jk",
        "colab": {
          "base_uri": "https://localhost:8080/"
        },
        "outputId": "4378c5fd-9e02-494a-9ade-6c3e41a6790c"
      },
      "source": [
        "adf_test(df['Sales'])"
      ],
      "execution_count": null,
      "outputs": [
        {
          "output_type": "stream",
          "name": "stdout",
          "text": [
            "1. ADF :  -3.7796546435661558\n",
            "2. P-Value :  0.0031224702327139835\n",
            "3. Num Of Lags :  5\n",
            "4. Num Of Observations Used For ADF Regression and Critical Values Calculation : 30\n",
            "5. Critical Values :\n",
            "\t 1% :  -3.6699197407407405\n",
            "\t 5% :  -2.9640707407407407\n",
            "\t 10% :  -2.621171111111111\n"
          ]
        }
      ]
    },
    {
      "cell_type": "markdown",
      "metadata": {
        "id": "XE7o8ZDEv6TV"
      },
      "source": [
        "#Figure Out Order for ARIMA Model"
      ]
    },
    {
      "cell_type": "code",
      "metadata": {
        "id": "0Y1yq4A5e6j8"
      },
      "source": [
        "from pmdarima import auto_arima\n",
        "# Ignore harmless warnings\n",
        "import warnings\n",
        "warnings.filterwarnings(\"ignore\")"
      ],
      "execution_count": null,
      "outputs": []
    },
    {
      "cell_type": "code",
      "metadata": {
        "id": "6ikhqu-mfHCA",
        "colab": {
          "base_uri": "https://localhost:8080/",
          "height": 711
        },
        "outputId": "839bf711-6f9e-450d-a065-e4b9608185f7"
      },
      "source": [
        "stepwise_fit = auto_arima(df['Sales'],trace=True,\n",
        "                          suppress_warnings=True)\n",
        "\n",
        "stepwise_fit.summary()"
      ],
      "execution_count": null,
      "outputs": [
        {
          "output_type": "stream",
          "name": "stdout",
          "text": [
            "Performing stepwise search to minimize aic\n",
            " ARIMA(2,0,2)(0,0,0)[0] intercept   : AIC=inf, Time=1.32 sec\n",
            " ARIMA(0,0,0)(0,0,0)[0] intercept   : AIC=945.731, Time=0.05 sec\n",
            " ARIMA(1,0,0)(0,0,0)[0] intercept   : AIC=932.018, Time=0.07 sec\n",
            " ARIMA(0,0,1)(0,0,0)[0] intercept   : AIC=932.160, Time=0.13 sec\n",
            " ARIMA(0,0,0)(0,0,0)[0]             : AIC=1100.250, Time=0.04 sec\n",
            " ARIMA(2,0,0)(0,0,0)[0] intercept   : AIC=927.826, Time=0.81 sec\n",
            " ARIMA(3,0,0)(0,0,0)[0] intercept   : AIC=941.687, Time=1.46 sec\n",
            " ARIMA(2,0,1)(0,0,0)[0] intercept   : AIC=947.670, Time=0.58 sec\n",
            " ARIMA(1,0,1)(0,0,0)[0] intercept   : AIC=931.099, Time=0.09 sec\n",
            " ARIMA(3,0,1)(0,0,0)[0] intercept   : AIC=933.291, Time=1.41 sec\n",
            " ARIMA(2,0,0)(0,0,0)[0]             : AIC=inf, Time=0.15 sec\n",
            "\n",
            "Best model:  ARIMA(2,0,0)(0,0,0)[0] intercept\n",
            "Total fit time: 6.203 seconds\n"
          ]
        },
        {
          "output_type": "execute_result",
          "data": {
            "text/plain": [
              "<class 'statsmodels.iolib.summary.Summary'>\n",
              "\"\"\"\n",
              "                               SARIMAX Results                                \n",
              "==============================================================================\n",
              "Dep. Variable:                      y   No. Observations:                   36\n",
              "Model:               SARIMAX(2, 0, 0)   Log Likelihood                -459.913\n",
              "Date:                Wed, 04 Dec 2024   AIC                            927.826\n",
              "Time:                        12:16:20   BIC                            934.161\n",
              "Sample:                    01-01-2015   HQIC                           930.037\n",
              "                         - 12-01-2017                                         \n",
              "Covariance Type:                  opg                                         \n",
              "==============================================================================\n",
              "                 coef    std err          z      P>|z|      [0.025      0.975]\n",
              "------------------------------------------------------------------------------\n",
              "intercept   8.279e+05   2.71e+05      3.057      0.002    2.97e+05    1.36e+06\n",
              "ar.L1          0.9027      0.135      6.700      0.000       0.639       1.167\n",
              "ar.L2         -0.7131      0.249     -2.865      0.004      -1.201      -0.225\n",
              "sigma2      7.168e+09     45.429   1.58e+08      0.000    7.17e+09    7.17e+09\n",
              "===================================================================================\n",
              "Ljung-Box (L1) (Q):                   0.27   Jarque-Bera (JB):                89.51\n",
              "Prob(Q):                              0.60   Prob(JB):                         0.00\n",
              "Heteroskedasticity (H):               4.16   Skew:                            -1.90\n",
              "Prob(H) (two-sided):                  0.02   Kurtosis:                         9.72\n",
              "===================================================================================\n",
              "\n",
              "Warnings:\n",
              "[1] Covariance matrix calculated using the outer product of gradients (complex-step).\n",
              "[2] Covariance matrix is singular or near-singular, with condition number 1.61e+23. Standard errors may be unstable.\n",
              "\"\"\""
            ],
            "text/html": [
              "<table class=\"simpletable\">\n",
              "<caption>SARIMAX Results</caption>\n",
              "<tr>\n",
              "  <th>Dep. Variable:</th>           <td>y</td>        <th>  No. Observations:  </th>    <td>36</td>   \n",
              "</tr>\n",
              "<tr>\n",
              "  <th>Model:</th>           <td>SARIMAX(2, 0, 0)</td> <th>  Log Likelihood     </th> <td>-459.913</td>\n",
              "</tr>\n",
              "<tr>\n",
              "  <th>Date:</th>            <td>Wed, 04 Dec 2024</td> <th>  AIC                </th>  <td>927.826</td>\n",
              "</tr>\n",
              "<tr>\n",
              "  <th>Time:</th>                <td>12:16:20</td>     <th>  BIC                </th>  <td>934.161</td>\n",
              "</tr>\n",
              "<tr>\n",
              "  <th>Sample:</th>             <td>01-01-2015</td>    <th>  HQIC               </th>  <td>930.037</td>\n",
              "</tr>\n",
              "<tr>\n",
              "  <th></th>                   <td>- 12-01-2017</td>   <th>                     </th>     <td> </td>   \n",
              "</tr>\n",
              "<tr>\n",
              "  <th>Covariance Type:</th>        <td>opg</td>       <th>                     </th>     <td> </td>   \n",
              "</tr>\n",
              "</table>\n",
              "<table class=\"simpletable\">\n",
              "<tr>\n",
              "      <td></td>         <th>coef</th>     <th>std err</th>      <th>z</th>      <th>P>|z|</th>  <th>[0.025</th>    <th>0.975]</th>  \n",
              "</tr>\n",
              "<tr>\n",
              "  <th>intercept</th> <td> 8.279e+05</td> <td> 2.71e+05</td> <td>    3.057</td> <td> 0.002</td> <td> 2.97e+05</td> <td> 1.36e+06</td>\n",
              "</tr>\n",
              "<tr>\n",
              "  <th>ar.L1</th>     <td>    0.9027</td> <td>    0.135</td> <td>    6.700</td> <td> 0.000</td> <td>    0.639</td> <td>    1.167</td>\n",
              "</tr>\n",
              "<tr>\n",
              "  <th>ar.L2</th>     <td>   -0.7131</td> <td>    0.249</td> <td>   -2.865</td> <td> 0.004</td> <td>   -1.201</td> <td>   -0.225</td>\n",
              "</tr>\n",
              "<tr>\n",
              "  <th>sigma2</th>    <td> 7.168e+09</td> <td>   45.429</td> <td> 1.58e+08</td> <td> 0.000</td> <td> 7.17e+09</td> <td> 7.17e+09</td>\n",
              "</tr>\n",
              "</table>\n",
              "<table class=\"simpletable\">\n",
              "<tr>\n",
              "  <th>Ljung-Box (L1) (Q):</th>     <td>0.27</td> <th>  Jarque-Bera (JB):  </th> <td>89.51</td>\n",
              "</tr>\n",
              "<tr>\n",
              "  <th>Prob(Q):</th>                <td>0.60</td> <th>  Prob(JB):          </th> <td>0.00</td> \n",
              "</tr>\n",
              "<tr>\n",
              "  <th>Heteroskedasticity (H):</th> <td>4.16</td> <th>  Skew:              </th> <td>-1.90</td>\n",
              "</tr>\n",
              "<tr>\n",
              "  <th>Prob(H) (two-sided):</th>    <td>0.02</td> <th>  Kurtosis:          </th> <td>9.72</td> \n",
              "</tr>\n",
              "</table><br/><br/>Warnings:<br/>[1] Covariance matrix calculated using the outer product of gradients (complex-step).<br/>[2] Covariance matrix is singular or near-singular, with condition number 1.61e+23. Standard errors may be unstable."
            ],
            "text/latex": "\\begin{center}\n\\begin{tabular}{lclc}\n\\toprule\n\\textbf{Dep. Variable:}          &        y         & \\textbf{  No. Observations:  } &     36      \\\\\n\\textbf{Model:}                  & SARIMAX(2, 0, 0) & \\textbf{  Log Likelihood     } &  -459.913   \\\\\n\\textbf{Date:}                   & Wed, 04 Dec 2024 & \\textbf{  AIC                } &  927.826    \\\\\n\\textbf{Time:}                   &     12:16:20     & \\textbf{  BIC                } &  934.161    \\\\\n\\textbf{Sample:}                 &    01-01-2015    & \\textbf{  HQIC               } &  930.037    \\\\\n\\textbf{}                        &   - 12-01-2017   & \\textbf{                     } &             \\\\\n\\textbf{Covariance Type:}        &       opg        & \\textbf{                     } &             \\\\\n\\bottomrule\n\\end{tabular}\n\\begin{tabular}{lcccccc}\n                   & \\textbf{coef} & \\textbf{std err} & \\textbf{z} & \\textbf{P$> |$z$|$} & \\textbf{[0.025} & \\textbf{0.975]}  \\\\\n\\midrule\n\\textbf{intercept} &    8.279e+05  &     2.71e+05     &     3.057  &         0.002        &     2.97e+05    &     1.36e+06     \\\\\n\\textbf{ar.L1}     &       0.9027  &        0.135     &     6.700  &         0.000        &        0.639    &        1.167     \\\\\n\\textbf{ar.L2}     &      -0.7131  &        0.249     &    -2.865  &         0.004        &       -1.201    &       -0.225     \\\\\n\\textbf{sigma2}    &    7.168e+09  &       45.429     &  1.58e+08  &         0.000        &     7.17e+09    &     7.17e+09     \\\\\n\\bottomrule\n\\end{tabular}\n\\begin{tabular}{lclc}\n\\textbf{Ljung-Box (L1) (Q):}     & 0.27 & \\textbf{  Jarque-Bera (JB):  } & 89.51  \\\\\n\\textbf{Prob(Q):}                & 0.60 & \\textbf{  Prob(JB):          } &  0.00  \\\\\n\\textbf{Heteroskedasticity (H):} & 4.16 & \\textbf{  Skew:              } & -1.90  \\\\\n\\textbf{Prob(H) (two-sided):}    & 0.02 & \\textbf{  Kurtosis:          } &  9.72  \\\\\n\\bottomrule\n\\end{tabular}\n%\\caption{SARIMAX Results}\n\\end{center}\n\nWarnings: \\newline\n [1] Covariance matrix calculated using the outer product of gradients (complex-step). \\newline\n [2] Covariance matrix is singular or near-singular, with condition number 1.61e+23. Standard errors may be unstable."
          },
          "metadata": {},
          "execution_count": 9
        }
      ]
    },
    {
      "cell_type": "code",
      "metadata": {
        "id": "i2OiS6-gfKHs"
      },
      "source": [
        "from statsmodels.tsa.arima_model import ARIMA"
      ],
      "execution_count": null,
      "outputs": []
    },
    {
      "cell_type": "markdown",
      "metadata": {
        "id": "y-JQDC6yv9_y"
      },
      "source": [
        "#Split Data into Training and Testing"
      ]
    },
    {
      "cell_type": "code",
      "metadata": {
        "id": "h-SgGft2fYMF",
        "colab": {
          "base_uri": "https://localhost:8080/"
        },
        "outputId": "64341fc3-e6bd-4394-9c27-2ce23cb5e63c"
      },
      "source": [
        "print(df.shape)\n",
        "train=df.iloc[:-5]\n",
        "test=df.iloc[-5:]\n",
        "print(train.shape,test.shape)\n",
        "print(test.iloc[0],test.iloc[-1])"
      ],
      "execution_count": null,
      "outputs": [
        {
          "output_type": "stream",
          "name": "stdout",
          "text": [
            "(36, 1)\n",
            "(31, 1) (5, 1)\n",
            "Sales    1109337.15\n",
            "Name: 2017-08-01 00:00:00, dtype: float64 Sales    503910.81\n",
            "Name: 2017-12-01 00:00:00, dtype: float64\n"
          ]
        }
      ]
    },
    {
      "cell_type": "markdown",
      "metadata": {
        "id": "emUTK7M6wCmx"
      },
      "source": [
        "## Train the Model"
      ]
    },
    {
      "cell_type": "code",
      "metadata": {
        "id": "LKr5XHt0fbWT",
        "colab": {
          "base_uri": "https://localhost:8080/",
          "height": 451
        },
        "outputId": "279c4600-8da8-4fe0-cb20-6502213ad3cc"
      },
      "source": [
        "from statsmodels.tsa.arima.model import ARIMA\n",
        "model=ARIMA(train['Sales'],order=(2,0,0))\n",
        "model=model.fit()\n",
        "model.summary()\n"
      ],
      "execution_count": null,
      "outputs": [
        {
          "output_type": "execute_result",
          "data": {
            "text/plain": [
              "<class 'statsmodels.iolib.summary.Summary'>\n",
              "\"\"\"\n",
              "                               SARIMAX Results                                \n",
              "==============================================================================\n",
              "Dep. Variable:                  Sales   No. Observations:                   31\n",
              "Model:                 ARIMA(2, 0, 0)   Log Likelihood                -365.145\n",
              "Date:                Wed, 04 Dec 2024   AIC                            738.290\n",
              "Time:                        12:16:20   BIC                            744.026\n",
              "Sample:                    01-01-2015   HQIC                           740.160\n",
              "                         - 07-01-2017                                         \n",
              "Covariance Type:                  opg                                         \n",
              "==============================================================================\n",
              "                 coef    std err          z      P>|z|      [0.025      0.975]\n",
              "------------------------------------------------------------------------------\n",
              "const       1.032e+06   7252.061    142.318      0.000    1.02e+06    1.05e+06\n",
              "ar.L1         -0.1337      0.311     -0.430      0.667      -0.743       0.475\n",
              "ar.L2          0.4512      0.115      3.937      0.000       0.227       0.676\n",
              "sigma2      6.758e+08      0.075   9.05e+09      0.000    6.76e+08    6.76e+08\n",
              "===================================================================================\n",
              "Ljung-Box (L1) (Q):                   0.07   Jarque-Bera (JB):                 8.97\n",
              "Prob(Q):                              0.80   Prob(JB):                         0.01\n",
              "Heteroskedasticity (H):               0.98   Skew:                            -0.96\n",
              "Prob(H) (two-sided):                  0.97   Kurtosis:                         4.81\n",
              "===================================================================================\n",
              "\n",
              "Warnings:\n",
              "[1] Covariance matrix calculated using the outer product of gradients (complex-step).\n",
              "[2] Covariance matrix is singular or near-singular, with condition number 3.12e+25. Standard errors may be unstable.\n",
              "\"\"\""
            ],
            "text/html": [
              "<table class=\"simpletable\">\n",
              "<caption>SARIMAX Results</caption>\n",
              "<tr>\n",
              "  <th>Dep. Variable:</th>         <td>Sales</td>      <th>  No. Observations:  </th>    <td>31</td>   \n",
              "</tr>\n",
              "<tr>\n",
              "  <th>Model:</th>            <td>ARIMA(2, 0, 0)</td>  <th>  Log Likelihood     </th> <td>-365.145</td>\n",
              "</tr>\n",
              "<tr>\n",
              "  <th>Date:</th>            <td>Wed, 04 Dec 2024</td> <th>  AIC                </th>  <td>738.290</td>\n",
              "</tr>\n",
              "<tr>\n",
              "  <th>Time:</th>                <td>12:16:20</td>     <th>  BIC                </th>  <td>744.026</td>\n",
              "</tr>\n",
              "<tr>\n",
              "  <th>Sample:</th>             <td>01-01-2015</td>    <th>  HQIC               </th>  <td>740.160</td>\n",
              "</tr>\n",
              "<tr>\n",
              "  <th></th>                   <td>- 07-01-2017</td>   <th>                     </th>     <td> </td>   \n",
              "</tr>\n",
              "<tr>\n",
              "  <th>Covariance Type:</th>        <td>opg</td>       <th>                     </th>     <td> </td>   \n",
              "</tr>\n",
              "</table>\n",
              "<table class=\"simpletable\">\n",
              "<tr>\n",
              "     <td></td>       <th>coef</th>     <th>std err</th>      <th>z</th>      <th>P>|z|</th>  <th>[0.025</th>    <th>0.975]</th>  \n",
              "</tr>\n",
              "<tr>\n",
              "  <th>const</th>  <td> 1.032e+06</td> <td> 7252.061</td> <td>  142.318</td> <td> 0.000</td> <td> 1.02e+06</td> <td> 1.05e+06</td>\n",
              "</tr>\n",
              "<tr>\n",
              "  <th>ar.L1</th>  <td>   -0.1337</td> <td>    0.311</td> <td>   -0.430</td> <td> 0.667</td> <td>   -0.743</td> <td>    0.475</td>\n",
              "</tr>\n",
              "<tr>\n",
              "  <th>ar.L2</th>  <td>    0.4512</td> <td>    0.115</td> <td>    3.937</td> <td> 0.000</td> <td>    0.227</td> <td>    0.676</td>\n",
              "</tr>\n",
              "<tr>\n",
              "  <th>sigma2</th> <td> 6.758e+08</td> <td>    0.075</td> <td> 9.05e+09</td> <td> 0.000</td> <td> 6.76e+08</td> <td> 6.76e+08</td>\n",
              "</tr>\n",
              "</table>\n",
              "<table class=\"simpletable\">\n",
              "<tr>\n",
              "  <th>Ljung-Box (L1) (Q):</th>     <td>0.07</td> <th>  Jarque-Bera (JB):  </th> <td>8.97</td> \n",
              "</tr>\n",
              "<tr>\n",
              "  <th>Prob(Q):</th>                <td>0.80</td> <th>  Prob(JB):          </th> <td>0.01</td> \n",
              "</tr>\n",
              "<tr>\n",
              "  <th>Heteroskedasticity (H):</th> <td>0.98</td> <th>  Skew:              </th> <td>-0.96</td>\n",
              "</tr>\n",
              "<tr>\n",
              "  <th>Prob(H) (two-sided):</th>    <td>0.97</td> <th>  Kurtosis:          </th> <td>4.81</td> \n",
              "</tr>\n",
              "</table><br/><br/>Warnings:<br/>[1] Covariance matrix calculated using the outer product of gradients (complex-step).<br/>[2] Covariance matrix is singular or near-singular, with condition number 3.12e+25. Standard errors may be unstable."
            ],
            "text/latex": "\\begin{center}\n\\begin{tabular}{lclc}\n\\toprule\n\\textbf{Dep. Variable:}          &      Sales       & \\textbf{  No. Observations:  } &     31      \\\\\n\\textbf{Model:}                  &  ARIMA(2, 0, 0)  & \\textbf{  Log Likelihood     } &  -365.145   \\\\\n\\textbf{Date:}                   & Wed, 04 Dec 2024 & \\textbf{  AIC                } &  738.290    \\\\\n\\textbf{Time:}                   &     12:16:20     & \\textbf{  BIC                } &  744.026    \\\\\n\\textbf{Sample:}                 &    01-01-2015    & \\textbf{  HQIC               } &  740.160    \\\\\n\\textbf{}                        &   - 07-01-2017   & \\textbf{                     } &             \\\\\n\\textbf{Covariance Type:}        &       opg        & \\textbf{                     } &             \\\\\n\\bottomrule\n\\end{tabular}\n\\begin{tabular}{lcccccc}\n                & \\textbf{coef} & \\textbf{std err} & \\textbf{z} & \\textbf{P$> |$z$|$} & \\textbf{[0.025} & \\textbf{0.975]}  \\\\\n\\midrule\n\\textbf{const}  &    1.032e+06  &     7252.061     &   142.318  &         0.000        &     1.02e+06    &     1.05e+06     \\\\\n\\textbf{ar.L1}  &      -0.1337  &        0.311     &    -0.430  &         0.667        &       -0.743    &        0.475     \\\\\n\\textbf{ar.L2}  &       0.4512  &        0.115     &     3.937  &         0.000        &        0.227    &        0.676     \\\\\n\\textbf{sigma2} &    6.758e+08  &        0.075     &  9.05e+09  &         0.000        &     6.76e+08    &     6.76e+08     \\\\\n\\bottomrule\n\\end{tabular}\n\\begin{tabular}{lclc}\n\\textbf{Ljung-Box (L1) (Q):}     & 0.07 & \\textbf{  Jarque-Bera (JB):  } &  8.97  \\\\\n\\textbf{Prob(Q):}                & 0.80 & \\textbf{  Prob(JB):          } &  0.01  \\\\\n\\textbf{Heteroskedasticity (H):} & 0.98 & \\textbf{  Skew:              } & -0.96  \\\\\n\\textbf{Prob(H) (two-sided):}    & 0.97 & \\textbf{  Kurtosis:          } &  4.81  \\\\\n\\bottomrule\n\\end{tabular}\n%\\caption{SARIMAX Results}\n\\end{center}\n\nWarnings: \\newline\n [1] Covariance matrix calculated using the outer product of gradients (complex-step). \\newline\n [2] Covariance matrix is singular or near-singular, with condition number 3.12e+25. Standard errors may be unstable."
          },
          "metadata": {},
          "execution_count": 12
        }
      ]
    },
    {
      "cell_type": "markdown",
      "metadata": {
        "id": "QnJXQ4iBwFec"
      },
      "source": [
        "#Make Predictions on Test Set"
      ]
    },
    {
      "cell_type": "code",
      "metadata": {
        "id": "2ZtJTygKfg5i",
        "colab": {
          "base_uri": "https://localhost:8080/",
          "height": 496
        },
        "outputId": "ced1bedf-7604-4155-b871-962d2109bcdf"
      },
      "source": [
        "start=len(train)\n",
        "end=len(train)+len(test)-1\n",
        "#if the predicted values dont have date values as index, you will have to uncomment the following two commented lines to plot a graph\n",
        "#index_future_dates=pd.date_range(start='2018-12-01',end='2018-12-30')\n",
        "pred=model.predict(start=start,end=end,typ='levels').rename('ARIMA predictions')\n",
        "#pred.index=index_future_dates\n",
        "pred.plot(legend=True)\n",
        "test['Sales'].plot(legend=True)\n"
      ],
      "execution_count": null,
      "outputs": [
        {
          "output_type": "execute_result",
          "data": {
            "text/plain": [
              "<Axes: xlabel='Date'>"
            ]
          },
          "metadata": {},
          "execution_count": 16
        },
        {
          "output_type": "display_data",
          "data": {
            "text/plain": [
              "<Figure size 640x480 with 1 Axes>"
            ],
            "image/png": "[encoded data removed]"
          },
          "metadata": {}
        }
      ]
    },
    {
      "cell_type": "code",
      "metadata": {
        "id": "3R2eTZHDfz5H",
        "colab": {
          "base_uri": "https://localhost:8080/"
        },
        "outputId": "075e567c-faa2-484e-f399-0876836bdbfa"
      },
      "source": [
        "test['Sales'].mean()"
      ],
      "execution_count": null,
      "outputs": [
        {
          "output_type": "execute_result",
          "data": {
            "text/plain": [
              "891586.316"
            ]
          },
          "metadata": {},
          "execution_count": 17
        }
      ]
    },
    {
      "cell_type": "code",
      "metadata": {
        "id": "zQ7SB2lQux5x",
        "colab": {
          "base_uri": "https://localhost:8080/"
        },
        "outputId": "c1db1b6d-8f61-4a46-bd93-782f91d51be9"
      },
      "source": [
        "from sklearn.metrics import mean_squared_error\n",
        "from math import sqrt\n",
        "rmse=sqrt(mean_squared_error(pred,test['Sales']))\n",
        "print(rmse)\n"
      ],
      "execution_count": null,
      "outputs": [
        {
          "output_type": "stream",
          "name": "stdout",
          "text": [
            "305432.5731678166\n"
          ]
        }
      ]
    },
    {
      "cell_type": "code",
      "metadata": {
        "id": "DgJUq_lGvV10",
        "colab": {
          "base_uri": "https://localhost:8080/",
          "height": 237
        },
        "outputId": "5878d8a4-11f5-43c0-c0e3-f974d570a9fa"
      },
      "source": [
        "model2=ARIMA(df['Sales'],order=(2,0,0))\n",
        "model2=model2.fit()\n",
        "df.tail()"
      ],
      "execution_count": null,
      "outputs": [
        {
          "output_type": "execute_result",
          "data": {
            "text/plain": [
              "                 Sales\n",
              "Date                  \n",
              "2017-08-01  1109337.15\n",
              "2017-09-01  1143775.09\n",
              "2017-10-01  1073994.16\n",
              "2017-11-01   626914.37\n",
              "2017-12-01   503910.81"
            ],
            "text/html": [
              "\n",
              "  <div id=\"df-d6af7f0f-38db-4935-8027-fca65af0e40e\" class=\"colab-df-container\">\n",
              "    <div>\n",
              "<style scoped>\n",
              "    .dataframe tbody tr th:only-of-type {\n",
              "        vertical-align: middle;\n",
              "    }\n",
              "\n",
              "    .dataframe tbody tr th {\n",
              "        vertical-align: top;\n",
              "    }\n",
              "\n",
              "    .dataframe thead th {\n",
              "        text-align: right;\n",
              "    }\n",
              "</style>\n",
              "<table border=\"1\" class=\"dataframe\">\n",
              "  <thead>\n",
              "    <tr style=\"text-align: right;\">\n",
              "      <th></th>\n",
              "      <th>Sales</th>\n",
              "    </tr>\n",
              "    <tr>\n",
              "      <th>Date</th>\n",
              "      <th></th>\n",
              "    </tr>\n",
              "  </thead>\n",
              "  <tbody>\n",
              "    <tr>\n",
              "      <th>2017-08-01</th>\n",
              "      <td>1109337.15</td>\n",
              "    </tr>\n",
              "    <tr>\n",
              "      <th>2017-09-01</th>\n",
              "      <td>1143775.09</td>\n",
              "    </tr>\n",
              "    <tr>\n",
              "      <th>2017-10-01</th>\n",
              "      <td>1073994.16</td>\n",
              "    </tr>\n",
              "    <tr>\n",
              "      <th>2017-11-01</th>\n",
              "      <td>626914.37</td>\n",
              "    </tr>\n",
              "    <tr>\n",
              "      <th>2017-12-01</th>\n",
              "      <td>503910.81</td>\n",
              "    </tr>\n",
              "  </tbody>\n",
              "</table>\n",
              "</div>\n",
              "    <div class=\"colab-df-buttons\">\n",
              "\n",
              "  <div class=\"colab-df-container\">\n",
              "    <button class=\"colab-df-convert\" onclick=\"convertToInteractive('df-d6af7f0f-38db-4935-8027-fca65af0e40e')\"\n",
              "            title=\"Convert this dataframe to an interactive table.\"\n",
              "            style=\"display:none;\">\n",
              "\n",
              "  <svg xmlns=\"http://www.w3.org/2000/svg\" height=\"24px\" viewBox=\"0 -960 960 960\">\n",
              "    <path d=\"M120-120v-720h720v720H120Zm60-500h600v-160H180v160Zm220 220h160v-160H400v160Zm0 220h160v-160H400v160ZM180-400h160v-160H180v160Zm440 0h160v-160H620v160ZM180-180h160v-160H180v160Zm440 0h160v-160H620v160Z\"/>\n",
              "  </svg>\n",
              "    </button>\n",
              "\n",
              "  <style>\n",
              "    .colab-df-container {\n",
              "      display:flex;\n",
              "      gap: 12px;\n",
              "    }\n",
              "\n",
              "    .colab-df-convert {\n",
              "      background-color: #E8F0FE;\n",
              "      border: none;\n",
              "      border-radius: 50%;\n",
              "      cursor: pointer;\n",
              "      display: none;\n",
              "      fill: #1967D2;\n",
              "      height: 32px;\n",
              "      padding: 0 0 0 0;\n",
              "      width: 32px;\n",
              "    }\n",
              "\n",
              "    .colab-df-convert:hover {\n",
              "      background-color: #E2EBFA;\n",
              "      box-shadow: 0px 1px 2px rgba(60, 64, 67, 0.3), 0px 1px 3px 1px rgba(60, 64, 67, 0.15);\n",
              "      fill: #174EA6;\n",
              "    }\n",
              "\n",
              "    .colab-df-buttons div {\n",
              "      margin-bottom: 4px;\n",
              "    }\n",
              "\n",
              "    [theme=dark] .colab-df-convert {\n",
              "      background-color: #3B4455;\n",
              "      fill: #D2E3FC;\n",
              "    }\n",
              "\n",
              "    [theme=dark] .colab-df-convert:hover {\n",
              "      background-color: #434B5C;\n",
              "      box-shadow: 0px 1px 3px 1px rgba(0, 0, 0, 0.15);\n",
              "      filter: drop-shadow(0px 1px 2px rgba(0, 0, 0, 0.3));\n",
              "      fill: #FFFFFF;\n",
              "    }\n",
              "  </style>\n",
              "\n",
              "    <script>\n",
              "      const buttonEl =\n",
              "        document.querySelector('#df-d6af7f0f-38db-4935-8027-fca65af0e40e button.colab-df-convert');\n",
              "      buttonEl.style.display =\n",
              "        google.colab.kernel.accessAllowed ? 'block' : 'none';\n",
              "\n",
              "      async function convertToInteractive(key) {\n",
              "        const element = document.querySelector('#df-d6af7f0f-38db-4935-8027-fca65af0e40e');\n",
              "        const dataTable =\n",
              "          await google.colab.kernel.invokeFunction('convertToInteractive',\n",
              "                                                    [key], {});\n",
              "        if (!dataTable) return;\n",
              "\n",
              "        const docLinkHtml = 'Like what you see? Visit the ' +\n",
              "          '<a target=\"_blank\" href=https://colab.research.google.com/notebooks/data_table.ipynb>data table notebook</a>'\n",
              "          + ' to learn more about interactive tables.';\n",
              "        element.innerHTML = '';\n",
              "        dataTable['output_type'] = 'display_data';\n",
              "        await google.colab.output.renderOutput(dataTable, element);\n",
              "        const docLink = document.createElement('div');\n",
              "        docLink.innerHTML = docLinkHtml;\n",
              "        element.appendChild(docLink);\n",
              "      }\n",
              "    </script>\n",
              "  </div>\n",
              "\n",
              "\n",
              "<div id=\"df-b1828b33-140b-40e8-8a57-9e7ed9c6a5fa\">\n",
              "  <button class=\"colab-df-quickchart\" onclick=\"quickchart('df-b1828b33-140b-40e8-8a57-9e7ed9c6a5fa')\"\n",
              "            title=\"Suggest charts\"\n",
              "            style=\"display:none;\">\n",
              "\n",
              "<svg xmlns=\"http://www.w3.org/2000/svg\" height=\"24px\"viewBox=\"0 0 24 24\"\n",
              "     width=\"24px\">\n",
              "    <g>\n",
              "        <path d=\"M19 3H5c-1.1 0-2 .9-2 2v14c0 1.1.9 2 2 2h14c1.1 0 2-.9 2-2V5c0-1.1-.9-2-2-2zM9 17H7v-7h2v7zm4 0h-2V7h2v10zm4 0h-2v-4h2v4z\"/>\n",
              "    </g>\n",
              "</svg>\n",
              "  </button>\n",
              "\n",
              "<style>\n",
              "  .colab-df-quickchart {\n",
              "      --bg-color: #E8F0FE;\n",
              "      --fill-color: #1967D2;\n",
              "      --hover-bg-color: #E2EBFA;\n",
              "      --hover-fill-color: #174EA6;\n",
              "      --disabled-fill-color: #AAA;\n",
              "      --disabled-bg-color: #DDD;\n",
              "  }\n",
              "\n",
              "  [theme=dark] .colab-df-quickchart {\n",
              "      --bg-color: #3B4455;\n",
              "      --fill-color: #D2E3FC;\n",
              "      --hover-bg-color: #434B5C;\n",
              "      --hover-fill-color: #FFFFFF;\n",
              "      --disabled-bg-color: #3B4455;\n",
              "      --disabled-fill-color: #666;\n",
              "  }\n",
              "\n",
              "  .colab-df-quickchart {\n",
              "    background-color: var(--bg-color);\n",
              "    border: none;\n",
              "    border-radius: 50%;\n",
              "    cursor: pointer;\n",
              "    display: none;\n",
              "    fill: var(--fill-color);\n",
              "    height: 32px;\n",
              "    padding: 0;\n",
              "    width: 32px;\n",
              "  }\n",
              "\n",
              "  .colab-df-quickchart:hover {\n",
              "    background-color: var(--hover-bg-color);\n",
              "    box-shadow: 0 1px 2px rgba(60, 64, 67, 0.3), 0 1px 3px 1px rgba(60, 64, 67, 0.15);\n",
              "    fill: var(--button-hover-fill-color);\n",
              "  }\n",
              "\n",
              "  .colab-df-quickchart-complete:disabled,\n",
              "  .colab-df-quickchart-complete:disabled:hover {\n",
              "    background-color: var(--disabled-bg-color);\n",
              "    fill: var(--disabled-fill-color);\n",
              "    box-shadow: none;\n",
              "  }\n",
              "\n",
              "  .colab-df-spinner {\n",
              "    border: 2px solid var(--fill-color);\n",
              "    border-color: transparent;\n",
              "    border-bottom-color: var(--fill-color);\n",
              "    animation:\n",
              "      spin 1s steps(1) infinite;\n",
              "  }\n",
              "\n",
              "  @keyframes spin {\n",
              "    0% {\n",
              "      border-color: transparent;\n",
              "      border-bottom-color: var(--fill-color);\n",
              "      border-left-color: var(--fill-color);\n",
              "    }\n",
              "    20% {\n",
              "      border-color: transparent;\n",
              "      border-left-color: var(--fill-color);\n",
              "      border-top-color: var(--fill-color);\n",
              "    }\n",
              "    30% {\n",
              "      border-color: transparent;\n",
              "      border-left-color: var(--fill-color);\n",
              "      border-top-color: var(--fill-color);\n",
              "      border-right-color: var(--fill-color);\n",
              "    }\n",
              "    40% {\n",
              "      border-color: transparent;\n",
              "      border-right-color: var(--fill-color);\n",
              "      border-top-color: var(--fill-color);\n",
              "    }\n",
              "    60% {\n",
              "      border-color: transparent;\n",
              "      border-right-color: var(--fill-color);\n",
              "    }\n",
              "    80% {\n",
              "      border-color: transparent;\n",
              "      border-right-color: var(--fill-color);\n",
              "      border-bottom-color: var(--fill-color);\n",
              "    }\n",
              "    90% {\n",
              "      border-color: transparent;\n",
              "      border-bottom-color: var(--fill-color);\n",
              "    }\n",
              "  }\n",
              "</style>\n",
              "\n",
              "  <script>\n",
              "    async function quickchart(key) {\n",
              "      const quickchartButtonEl =\n",
              "        document.querySelector('#' + key + ' button');\n",
              "      quickchartButtonEl.disabled = true;  // To prevent multiple clicks.\n",
              "      quickchartButtonEl.classList.add('colab-df-spinner');\n",
              "      try {\n",
              "        const charts = await google.colab.kernel.invokeFunction(\n",
              "            'suggestCharts', [key], {});\n",
              "      } catch (error) {\n",
              "        console.error('Error during call to suggestCharts:', error);\n",
              "      }\n",
              "      quickchartButtonEl.classList.remove('colab-df-spinner');\n",
              "      quickchartButtonEl.classList.add('colab-df-quickchart-complete');\n",
              "    }\n",
              "    (() => {\n",
              "      let quickchartButtonEl =\n",
              "        document.querySelector('#df-b1828b33-140b-40e8-8a57-9e7ed9c6a5fa button');\n",
              "      quickchartButtonEl.style.display =\n",
              "        google.colab.kernel.accessAllowed ? 'block' : 'none';\n",
              "    })();\n",
              "  </script>\n",
              "</div>\n",
              "\n",
              "    </div>\n",
              "  </div>\n"
            ],
            "application/vnd.google.colaboratory.intrinsic+json": {
              "type": "dataframe",
              "summary": "{\n  \"name\": \"df\",\n  \"rows\": 5,\n  \"fields\": [\n    {\n      \"column\": \"Date\",\n      \"properties\": {\n        \"dtype\": \"date\",\n        \"min\": \"2017-08-01 00:00:00\",\n        \"max\": \"2017-12-01 00:00:00\",\n        \"num_unique_values\": 5,\n        \"samples\": [\n          \"2017-09-01 00:00:00\",\n          \"2017-12-01 00:00:00\",\n          \"2017-10-01 00:00:00\"\n        ],\n        \"semantic_type\": \"\",\n        \"description\": \"\"\n      }\n    },\n    {\n      \"column\": \"Sales\",\n      \"properties\": {\n        \"dtype\": \"number\",\n        \"std\": 301923.3188840462,\n        \"min\": 503910.81,\n        \"max\": 1143775.09,\n        \"num_unique_values\": 5,\n        \"samples\": [\n          1143775.09,\n          503910.81,\n          1073994.16\n        ],\n        \"semantic_type\": \"\",\n        \"description\": \"\"\n      }\n    }\n  ]\n}"
            }
          },
          "metadata": {},
          "execution_count": 20
        }
      ]
    },
    {
      "cell_type": "markdown",
      "metadata": {
        "id": "hQ4chXSmvSZw"
      },
      "source": [
        "#For Future Dates"
      ]
    },
    {
      "cell_type": "code",
      "metadata": {
        "id": "ZsjzMPfKqVag",
        "colab": {
          "base_uri": "https://localhost:8080/"
        },
        "outputId": "d1c57556-bba4-4cfe-9d1f-d976c7e0467a"
      },
      "source": [
        "index_future_dates=pd.date_range(start='2017-12-01', periods=13, freq='MS')\n",
        "#print(index_future_dates)\n",
        "pred=model2.predict(start=len(df),end=len(df)+12,typ='levels').rename('ARIMA Predictions')\n",
        "#print(comp_pred)\n",
        "pred.index=index_future_dates\n",
        "print(pred)"
      ],
      "execution_count": null,
      "outputs": [
        {
          "output_type": "stream",
          "name": "stdout",
          "text": [
            "2017-12-01    7.724645e+05\n",
            "2018-01-01    1.100841e+06\n",
            "2018-02-01    1.243764e+06\n",
            "2018-03-01    1.175428e+06\n",
            "2018-04-01    1.022970e+06\n",
            "2018-05-01    9.218327e+05\n",
            "2018-06-01    9.208643e+05\n",
            "2018-07-01    9.823808e+05\n",
            "2018-08-01    1.040807e+06\n",
            "2018-09-01    1.057759e+06\n",
            "2018-10-01    1.037631e+06\n",
            "2018-11-01    1.008246e+06\n",
            "2018-12-01    9.930472e+05\n",
            "Freq: MS, Name: ARIMA Predictions, dtype: float64\n"
          ]
        }
      ]
    },
    {
      "cell_type": "code",
      "source": [
        "# Suppress scientific notation for pandas\n",
        "pd.options.display.float_format = '{:.2f}'.format\n",
        "print(pred)\n"
      ],
      "metadata": {
        "colab": {
          "base_uri": "https://localhost:8080/"
        },
        "id": "dHuk4J7DbKx0",
        "outputId": "90fb9c2a-1316-41ca-a0b5-1f4446e4386b"
      },
      "execution_count": null,
      "outputs": [
        {
          "output_type": "stream",
          "name": "stdout",
          "text": [
            "2017-12-01    772464.54\n",
            "2018-01-01   1100840.82\n",
            "2018-02-01   1243764.17\n",
            "2018-03-01   1175428.14\n",
            "2018-04-01   1022969.82\n",
            "2018-05-01    921832.71\n",
            "2018-06-01    920864.28\n",
            "2018-07-01    982380.79\n",
            "2018-08-01   1040806.79\n",
            "2018-09-01   1057758.73\n",
            "2018-10-01   1037630.85\n",
            "2018-11-01   1008246.17\n",
            "2018-12-01    993047.21\n",
            "Freq: MS, Name: ARIMA Predictions, dtype: float64\n"
          ]
        }
      ]
    },
    {
      "cell_type": "code",
      "metadata": {
        "id": "hPgempSauwqo",
        "colab": {
          "base_uri": "https://localhost:8080/",
          "height": 494
        },
        "outputId": "7e307878-a32b-4509-9d91-1e2850ede259"
      },
      "source": [
        "pred.plot(figsize=(12,5),legend=True)\n"
      ],
      "execution_count": null,
      "outputs": [
        {
          "output_type": "execute_result",
          "data": {
            "text/plain": [
              "<Axes: >"
            ]
          },
          "metadata": {},
          "execution_count": 23
        },
        {
          "output_type": "display_data",
          "data": {
            "text/plain": [
              "<Figure size 1200x500 with 1 Axes>"
            ],
            "image/png": "[encoded data removed]"
          },
          "metadata": {}
        }
      ]
    }
  ]
}